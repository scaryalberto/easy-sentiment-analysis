{
 "cells": [
  {
   "cell_type": "markdown",
   "metadata": {},
   "source": [
    "# PROVIAMO A FARE UNA SENTIMENT ANALYSIS"
   ]
  },
  {
   "cell_type": "code",
   "execution_count": 1,
   "metadata": {},
   "outputs": [
    {
     "name": "stdout",
     "output_type": "stream",
     "text": [
      "C:\\Users\\Utente\\Desktop\\sentimentale\\aclImdb\n"
     ]
    }
   ],
   "source": [
    "#impostiamo la directory di lavoro\n",
    "import os\n",
    "os.getcwd()\n",
    "\n",
    "os.chdir('C:\\\\Users\\\\Utente\\\\Desktop\\\\sentimentale\\\\aclImdb') #C:\\Users\\Utente\\Desktop\\sentimentale\n",
    "print(os.getcwd())\n",
    "#nell'affrontare questa sentiment analysis noi partiamo direttamente dal testo delle cartelle pos e neg (praticamente rappresentano il dataset coi relativi tag: pos e neg)"
   ]
  },
  {
   "cell_type": "code",
   "execution_count": 2,
   "metadata": {},
   "outputs": [],
   "source": [
    "#IN QUESTA CELLA ANDIAMO A IMPORTARE LE RECENSIONI CON I RELATIVI \"VOTI\" (pos, neg)\n",
    "\n",
    "#files_path= 'C:\\\\Users\\\\Utente\\\\Desktop\\\\sentimentale\\\\aclImdb'\n",
    "\n",
    "#reviews=[] #testo della recensione\n",
    "#y=[] #commento della recensione (pos,neg)\n",
    "\n",
    "#considerando che i file txt con le rensioni si trovano in sottocartelle chiamate \"pos\" o \"neg\", quando prendo i file delle prime gli do valore 1 altrimenti 0\n",
    "labels=[\"pos\", \"neg\"]\n",
    "\n",
    "\n",
    "label_map={\"pos\":1, \"neg\":0}\n",
    "\n",
    "from os import listdir\n",
    "import pandas as pd\n",
    "\n",
    "reviews_train=[]\n",
    "y_train=[]\n",
    "\n",
    "files_path= \"C:\\\\Users\\\\Utente\\\\Desktop\\\\sentimentale\\\\aclImdb\\\\train\" #path del train\n",
    "labels=[\"pos\",\"neg\"]\n",
    "for label in labels:\n",
    "    path=files_path+\"/\"+label\n",
    "    for file in listdir(path): #listdir è un metodo che ci permette di ottenere la lista di file dentro al path\n",
    "        review_file=open(path+\"/\"+file, encoding=\"utf-8\")\n",
    "        review=review_file.read()\n",
    "        review_file.close()\n",
    "\n",
    "        reviews_train.append(review) #features\n",
    "        y_train.append(label_map[label]) #target\n",
    "\n",
    "        \n",
    "reviews_test=[]\n",
    "y_test=[]        \n",
    "files_path= \"C:\\\\Users\\\\Utente\\\\Desktop\\\\sentimentale\\\\aclImdb\\\\test\" #path del train\n",
    "labels=[\"pos\",\"neg\"]\n",
    "for label in labels:\n",
    "    path=files_path+\"/\"+label\n",
    "    for file in listdir(path): #listdir è un metodo che ci permette di ottenere la lista di file dentro al path\n",
    "        review_file=open(path+\"/\"+file, encoding=\"utf-8\")\n",
    "        review=review_file.read()\n",
    "        review_file.close()\n",
    "\n",
    "        reviews_test.append(review) #features\n",
    "        y_test.append(label_map[label]) #target\n",
    "        \n",
    "#reviews_train, y_train=load_xy(\"C:\\\\Users\\\\Utente\\\\Desktop\\\\sentimentale\\\\aclImdb\\\\train\")\n",
    "#reviews_test, y_test=load_xy(\"C:\\\\Users\\\\Utente\\\\Desktop\\\\sentimentale\\\\aclImdb\\\\test\")\n"
   ]
  },
  {
   "cell_type": "code",
   "execution_count": 3,
   "metadata": {},
   "outputs": [
    {
     "data": {
      "text/plain": [
       "0.9925719860299927"
      ]
     },
     "execution_count": 3,
     "metadata": {},
     "output_type": "execute_result"
    }
   ],
   "source": [
    "#ENTRIAMO NEL CUORE DEL PROCESSO DI MACHINE LEARNING\n",
    "#dato che vogliamo fare tutto da soli.... creaiamoci un modello bag of words, senza usare modelli preprocessati presi dal web\n",
    "\n",
    "from sklearn.utils import shuffle\n",
    "from sklearn.feature_extraction.text import CountVectorizer #questo ci serve per effettuare la bag of words\n",
    "\n",
    "#bow=bag of words. Ci serve per trafsormare le stringhe in formato numerico\n",
    "bow= CountVectorizer(max_features=5000) #stabiliamo quante parole vogliamo prendere\n",
    "\n",
    "#sklearn ha 2 classi a disposizioni: i trasformatori e gli estimatori \n",
    "#trasformatori = che servono a traformare i dati\n",
    "#gli estimatori = che servono a costruire i modelli. Negli estimatori troviamo 2 metodi: fit (che realizza i calcoli per effettuare la trasformazione)  e transform (che effettua fisicamente la traformazione)\n",
    "bow_train=bow.fit_transform(reviews_train) #abbiamo traformato le stringhe in bag of words, e successivamente le trasformiamo nell'array di train\n",
    "X_train = bow_train.toarray()\n",
    "\n",
    "bow_test = bow.transform(reviews_test) #essendo la parte del dataset di test... non dobbiamo fare il \"fit\" ma solo transform\n",
    "X_test = bow_test.toarray()\n",
    "\n",
    "\n",
    "#standardizziamo i dati di test e train... perchè potrebbero avere valori differenti tra loro (1000000, 0.00001)\n",
    "from sklearn.preprocessing import StandardScaler\n",
    "ss = StandardScaler()\n",
    "\n",
    "X_train=ss.fit_transform(X_train)\n",
    "X_test = ss.transform(X_test)\n",
    "\n",
    "#se la standardizzazione è avvenuta correttamente, la media dovrebbe essere molto vicina allo zero e la deviazione standard molto vicina a 1\n",
    "X_train.mean()\n",
    "X_train.std()\n",
    "X_test.mean()\n",
    "X_test.std()"
   ]
  },
  {
   "cell_type": "code",
   "execution_count": 11,
   "metadata": {
    "scrolled": true
   },
   "outputs": [
    {
     "name": "stderr",
     "output_type": "stream",
     "text": [
      "C:\\Users\\Utente\\Anaconda3.1\\lib\\site-packages\\sklearn\\linear_model\\logistic.py:432: FutureWarning: Default solver will be changed to 'lbfgs' in 0.22. Specify a solver to silence this warning.\n",
      "  FutureWarning)\n"
     ]
    },
    {
     "data": {
      "text/plain": [
       "LogisticRegression(C=0.001, class_weight=None, dual=False, fit_intercept=True,\n",
       "                   intercept_scaling=1, l1_ratio=None, max_iter=100,\n",
       "                   multi_class='warn', n_jobs=None, penalty='l2',\n",
       "                   random_state=None, solver='warn', tol=0.0001, verbose=0,\n",
       "                   warm_start=False)"
      ]
     },
     "execution_count": 11,
     "metadata": {},
     "output_type": "execute_result"
    }
   ],
   "source": [
    "#finalmente effettuaiamo l'addestramento del modello... dato che la risposta è un \"SI\"/\"NO\"(pos, neg) puntiamo, ovviamente, alla logit\n",
    "from sklearn.linear_model import LogisticRegression\n",
    "lr=LogisticRegression(C=0.001) #impostiamo questo valore (che non è obbligatorio) per evitare l'overfitting\n",
    "\n",
    "lr.fit(X_train, y_train) #feature, target"
   ]
  },
  {
   "cell_type": "code",
   "execution_count": 12,
   "metadata": {},
   "outputs": [
    {
     "data": {
      "text/plain": [
       "0.3124911583591352"
      ]
     },
     "execution_count": 12,
     "metadata": {},
     "output_type": "execute_result"
    }
   ],
   "source": [
    "#andiamo ad effettuar dei calcoli sul modello per vedere se è buono oppure no\n",
    "from sklearn.metrics import log_loss, accuracy_score #la prima è la funzione di costo e la 2a è l'accuratezza del modello\n",
    "\n",
    "train_pred=lr.predict(X_train) #calcoliamo e valutiamo le predizioni del modello sul set di addestramento\n",
    "train_pred_proba=lr.predict_proba(X_train) #prbabilità che un esempio all'interno del set di addestramento alla classe positiva (???)\n",
    "accuracy_score(y_train, train_pred) #percentuale di classificazioni corrette. Ad esempio, per un 0.8 vuol dire che il nostro modello ha classficato bene l'80% degli esempi\n",
    "log_loss(y_train, train_pred_proba) #più è bassa meglio è. Vuol dire che il modello è sicuro sulle predizioni effettuate\n",
    "\n",
    "train_pred=lr.predict(X_test) #calcoliamo e valutiamo le predizioni del modello sul set di addestramento\n",
    "train_pred_proba=lr.predict_proba(X_test) #prbabilità che un esempio all'interno del set di addestramento alla classe positiva (???)\n",
    "accuracy_score(y_test, train_pred) #percentuale di classificazioni corrette. Ad esempio, per un 0.8 vuol dire che il nostro modello ha classficato bene l'80% degli esempi\n",
    "log_loss(y_test, train_pred_proba) #più è bassa meglio è. Vuol dire che il modello è sicuro sulle predizioni effettuate\n"
   ]
  },
  {
   "cell_type": "code",
   "execution_count": 18,
   "metadata": {},
   "outputs": [
    {
     "data": {
      "text/plain": [
       "array([0])"
      ]
     },
     "execution_count": 18,
     "metadata": {},
     "output_type": "execute_result"
    }
   ],
   "source": [
    "#finalmente proviamo le recensioni\n",
    "review=\"I hate this film\"\n",
    "x=bow.transform([review]) #trasformiamo la string attraverso il bag of word, e poi effettuiamo (solo) la transform, perchè è come se fosse un training set\n",
    "lr.predict(x)"
   ]
  }
 ],
 "metadata": {
  "kernelspec": {
   "display_name": "Python 3",
   "language": "python",
   "name": "python3"
  },
  "language_info": {
   "codemirror_mode": {
    "name": "ipython",
    "version": 3
   },
   "file_extension": ".py",
   "mimetype": "text/x-python",
   "name": "python",
   "nbconvert_exporter": "python",
   "pygments_lexer": "ipython3",
   "version": "3.7.3"
  }
 },
 "nbformat": 4,
 "nbformat_minor": 2
}
